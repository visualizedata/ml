{
 "cells": [
  {
   "cell_type": "code",
   "execution_count": 1,
   "metadata": {},
   "outputs": [],
   "source": [
    "import numpy as np\n",
    "import pandas as pd\n",
    "import matplotlib.pyplot as plt\n",
    "%matplotlib inline"
   ]
  },
  {
   "cell_type": "markdown",
   "metadata": {},
   "source": [
    "### read the raw data"
   ]
  },
  {
   "cell_type": "code",
   "execution_count": 2,
   "metadata": {},
   "outputs": [
    {
     "name": "stdout",
     "output_type": "stream",
     "text": [
      "term          object\n",
      "definition    object\n",
      "ml              bool\n",
      "dtype: object\n",
      "               term                                         definition    ml\n",
      "0  machine learning  Automatic or semi-automatic updating of equati...  True\n",
      "1  machine learning  A method to train a machine(any kind) in a hum...  True\n",
      "2  machine learning  Pattern recognition through a set of constantl...  True\n",
      "3  machine learning  Machine learning is a predictive computational...  True\n",
      "4  machine learning  Machine learning is the development of functio...  True\n",
      "5  machine learning  Machine learning is the application of algorit...  True\n",
      "6  machine learning  A process where algorithms, paired with data, ...  True\n",
      "7  machine learning                     Algorithms that can be trained  True\n",
      "8  machine learning  Machine Learning describes algorithms that can...  True\n",
      "9  machine learning              Introducing an algorithm to a machine  True\n"
     ]
    }
   ],
   "source": [
    "data = pd.read_csv('definitions24.csv', encoding='latin1')\n",
    "\n",
    "# create a boolean indicator =True if the definition is of \"machine learning\"\n",
    "data['ml'] = data['term'] == 'machine learning'\n",
    "\n",
    "print(data.dtypes)\n",
    "print(data.head(10))"
   ]
  },
  {
   "cell_type": "markdown",
   "metadata": {},
   "source": [
    "### <span style=\"color:red\">create feature set X (matrix) and vector of labels L</span>\n",
    "\n",
    "Use [feature extraction methods in scikit-learn](http://scikit-learn.org/stable/modules/feature_extraction.html#text-feature-extraction) to *vectorize* the text of machine learning/AI definitions into an X matrix. "
   ]
  },
  {
   "cell_type": "code",
   "execution_count": 3,
   "metadata": {},
   "outputs": [
    {
     "name": "stdout",
     "output_type": "stream",
     "text": [
      "(313, 1209)\n"
     ]
    }
   ],
   "source": [
    "from sklearn.feature_extraction.text import CountVectorizer\n",
    "\n",
    "L = data[\"ml\"] # labels\n",
    "corpus = data['definition'] # corpus of reviews in words\n",
    "vectorizer = CountVectorizer(binary=True)\n",
    "X = vectorizer.fit_transform(corpus)\n",
    "print(X.shape)"
   ]
  },
  {
   "cell_type": "markdown",
   "metadata": {},
   "source": [
    "### let's look at the words in the corpus of \"definition\""
   ]
  },
  {
   "cell_type": "code",
   "execution_count": 4,
   "metadata": {},
   "outputs": [
    {
     "name": "stdout",
     "output_type": "stream",
     "text": [
      "1209\n",
      "* * * * *\n",
      "{'automatic': 94, 'or': 738, 'semi': 927, 'updating': 1134, 'of': 720, 'equations': 358, 'parameters': 763, 'using': 1143, 'algorithms': 43, 'automated': 93, 'parameter': 762, 'curve': 253, 'response': 898, 'surface': 1024, 'fitting': 416, 'method': 658, 'to': 1091, 'train': 1099, 'machine': 626, 'any': 63, 'kind': 572, 'in': 511, 'human': 491, 'manner': 640, 'achieve': 12, 'the': 1062, 'goal': 449, 'copying': 235, 'behavior': 113, 'even': 364, 'better': 125, 'than': 1059, 'regular': 879, 'being': 117, 'pattern': 769, 'recognition': 867, 'through': 1085, 'set': 937, 'constantly': 229, 'modifying': 676, 'rules': 910, 'learning': 592, 'is': 561, 'predictive': 808, 'computational': 216, 'based': 105, 'on': 727, 'training': 1101, 'model': 671, 'ml': 669, 'algorithm': 41, 'data': 258, 'followed': 419, 'by': 149, 'an': 52, 'optimization': 737, 'process': 819, 'whereby': 1177, 'tested': 1057, 'with': 1189, 'test': 1056, 'increase': 516, 'accuracy': 10, 'prediction': 806, 'development': 288, 'functions': 431, 'made': 629, 'patterns': 770, 'found': 423, 'application': 67, 'sort': 979, 'and': 58, 'categorize': 167, 'supervised': 1021, 'unsupervised': 1130, 'it': 562, 'way': 1162, 'comb': 198, 'large': 586, 'sets': 938, 'very': 1152, 'quickly': 852, 'reduce': 874, 'labor': 584, 'where': 1176, 'paired': 761, 'can': 156, 'be': 107, 'trained': 1100, 'perform': 773, 'useful': 1139, 'function': 430, 'that': 1060, 'describes': 277, 'find': 411, 'introducing': 555, 'computer': 219, 'systems': 1033, 'understand': 1126, 'recognize': 868, 'real': 862, 'world': 1197, 'aggregating': 35, 'information': 526, 'order': 739, 'generate': 438, 'synthesize': 1028, 'new': 701, 'insights': 536, 'program': 825, 'complete': 209, 'certain': 169, 'tasks': 1040, 'automatically': 95, 'having': 473, 'learn': 590, 'get': 443, 'at': 88, 'recognizing': 869, 'such': 1017, 'how': 488, 'react': 858, 'solve': 968, 'those': 1081, 'situations': 957, 'subset': 1013, 'practice': 799, 'artificial': 75, 'intelligence': 540, 'which': 1179, 'improves': 508, 'ingesting': 528, 'computers': 220, 'making': 635, 'decisions': 265, 'inputs': 533, 'ability': 4, 'for': 420, 'identify': 496, 'something': 973, 'groups': 458, 'been': 109, 'whether': 1178, 'visual': 1156, 'language': 585, 'creating': 243, 'teach': 1042, 'programmable': 827, 'processes': 820, 'used': 1138, 'classify': 184, 'various': 1150, 'kinds': 573, 'images': 499, 'numbers': 713, 'text': 1058, 'etc': 362, 'about': 6, 'object': 714, 'criteria': 248, 'given': 447, 'task': 1039, 'when': 1175, 'provided': 840, 'examples': 371, 'performance': 774, 'measures': 655, 'make': 633, 'predictions': 807, 'let': 598, 'read': 861, 'lot': 622, 'conclude': 223, 'itself': 566, 'then': 1065, 'encounter': 345, 'deal': 263, 'some': 970, 'are': 70, 'skill': 959, 'machines': 627, 'take': 1035, 'statements': 995, 'see': 923, 'things': 1075, 'taught': 1041, 'them': 1064, 'do': 307, 'translating': 1103, 'creation': 244, 'intelligent': 541, 'reduces': 875, 'errors': 361, 'most': 680, 'times': 1089, 'makes': 634, 'tedious': 1048, 'easier': 324, 'us': 1136, 'able': 5, 'adapt': 18, 'they': 1071, 'programmed': 828, 'applying': 68, 'amount': 51, 'meaningful': 652, 'output': 752, 'from': 427, 'datasets': 261, 'so': 964, 'similar': 951, 'other': 745, 'could': 239, 'people': 771, 'statistics': 998, 'filtering': 409, 'system': 1031, 'distinguishes': 305, 'technology': 1047, 'work': 1195, 'run': 911, 'under': 1124, 'logic': 617, 'era': 359, 'weak': 1164, 'ai': 38, 'finish': 413, 'single': 955, 'also': 49, 'multi': 686, 'same': 914, 'time': 1088, 'computation': 215, 'allows': 47, 'inferences': 521, 'known': 582, 'historical': 483, 'unique': 1128, 'input': 531, 'definition': 270, 'success': 1015, 'but': 148, 'has': 471, 'flexibility': 417, 'defining': 269, 'gets': 444, 'successful': 1016, 'solution': 966, 'its': 565, 'masses': 644, 'this': 1079, 'past': 767, 'points': 788, 'outcomes': 750, 'predict': 803, 'future': 435, 'ones': 730, 'calculating': 150, 'you': 1204, 'likely': 605, 'interested': 549, 'your': 1207, 'history': 484, 'via': 1154, 'algorithmic': 42, 'processing': 821, 'digital': 299, 'means': 653, 'explore': 385, 'collect': 191, 'define': 267, 'models': 674, 'help': 478, 'suggestions': 1018, 'commonalities': 205, 'these': 1070, 'encounters': 346, 'we': 1163, 'beings': 118, 'teaching': 1043, 'statistic': 996, 'experiments': 383, 'problems': 817, 'smart': 961, 'classification': 182, 'analysis': 54, 'organization': 743, 'type': 1118, 'done': 315, 'statistical': 997, 'modeling': 673, 'generated': 439, 'learned': 591, 'self': 926, 'previous': 812, 'existing': 379, 'mainly': 631, 'big': 129, 'source': 981, 'predictability': 804, 'experience': 381, 'usually': 1144, 'use': 1137, 'techniques': 1045, 'facilitating': 396, 'selection': 925, 'service': 936, 'extracting': 391, 'target': 1038, 'features': 400, 'descriptive': 278, 'routines': 909, 'assess': 83, 'sample': 915, 'try': 1114, 'general': 436, 'population': 790, 'learns': 594, 'code': 187, 'eliminating': 333, 'need': 696, 'hardcoding': 470, 'everything': 368, 'programm': 826, 'taking': 1037, 'sum': 1019, 'mostly': 681, 'created': 242, 'curated': 250, 'finding': 412, 'own': 759, 'between': 126, 'individual': 518, 'samples': 916, 'ultimately': 1122, 'coming': 202, 'up': 1131, 'might': 659, 'not': 708, 'sense': 928, 'generally': 437, 'comes': 201, 'different': 294, 'thought': 1082, 'humans': 494, 'have': 472, 'giving': 448, 'agency': 32, 'evolve': 369, 'over': 755, 'efficiency': 328, 'safety': 913, 'higher': 480, 'quality': 849, 'pursuit': 846, 'inorganic': 530, 'entity': 356, 'goals': 450, 'improvise': 510, 'pathways': 768, 'attain': 90, 'mathematical': 646, 'occur': 719, 'software': 965, 'allow': 45, 'programs': 830, 'change': 170, 'outputs': 753, 'calibration': 152, 'experiences': 382, 'ubiquitous': 1120, 'presence': 809, 'intuitive': 556, 'starts': 994, 'me': 649, 'as': 77, 'aid': 39, 'tool': 1095, 'much': 685, 'like': 604, 'invention': 557, 'wheel': 1173, 'changed': 171, 'life': 603, 'our': 747, 'ancestors': 57, 'knew': 579, 'changing': 172, 'know': 580, 'base': 104, 'study': 1009, 'providing': 842, 'special': 984, 'iteration': 563, 'think': 1076, 'quantitative': 850, 'descions': 275, 'cognition': 190, 'inform': 524, 'next': 703, 'action': 16, 'manipulate': 639, 'purpose': 844, 'analyzing': 56, 'result': 901, 'synthetically': 1030, 'adjusting': 23, 'behaviors': 114, 'mistakes': 667, 'reach': 857, 'desired': 281, 'outcome': 749, 'series': 934, 'procedures': 818, 'produce': 822, 'understanding': 1127, 'predicting': 805, 'defined': 268, 'domain': 311, 'results': 902, 'came': 155, 'out': 748, 'ordered': 740, 'algorism': 40, 'infer': 520, 'meaning': 651, 'form': 421, 'knowledge': 581, 'user': 1140, 'improve': 506, 'initial': 529, 'believed': 120, 'born': 135, 'natural': 693, 'if': 498, 'will': 1187, 'led': 595, 'build': 144, 'devices': 290, 'were': 1170, 'theorized': 1066, 'act': 13, 'their': 1063, 'behalf': 111, 'got': 455, 'really': 864, 'sophisticated': 977, 'eventually': 366, 'carry': 162, 'internally': 550, 'without': 1191, 'needing': 697, 'routine': 908, 'check': 175, 'ins': 535, 'outside': 754, 'collecting': 193, 'informations': 527, 'executing': 376, 'independently': 517, 'would': 1198, 'what': 1171, 'call': 153, 'users': 1141, 'computations': 218, 'dataset': 260, 'figure': 407, 'all': 44, 'possibility': 794, 'answer': 61, 'questions': 851, 'great': 456, 'resources': 896, 'analyze': 55, 'trend': 1108, 'end': 347, 'content': 231, 'had': 464, 'provides': 841, 'aggregated': 34, 'cycle': 257, 'identifying': 497, 'was': 1161, 'inputted': 534, 'move': 683, 'repeated': 889, 'neural': 699, 'network': 698, 'provide': 839, 'includes': 513, 'collection': 194, 'labeling': 583, 'adjustment': 24, 'deployment': 274, 'written': 1199, 'operate': 733, 'wide': 1185, 'range': 853, 'pushing': 847, 'notifications': 709, 'facial': 395, 'trends': 1109, 'weather': 1166, 'normally': 706, 'now': 710, 'easily': 325, 'systematically': 1032, 'enabling': 343, 'feeding': 402, 'imitate': 503, 'intelligently': 542, 'once': 728, 'collected': 192, 'capability': 159, 'my': 690, 'happens': 469, 'huge': 490, 'thereby': 1068, 'detects': 287, 'within': 1190, 'recommend': 870, 'prompts': 835, 'basic': 106, 'year': 1201, 'old': 724, 'into': 553, 'smarter': 962, 'more': 679, 'accurate': 11, 'gone': 452, 'potential': 795, 'steps': 1000, 'telling': 1050, 'continual': 233, 'particular': 765, 'trying': 1115, 'effectively': 327, 'relevant': 885, 'answers': 62, 'larger': 587, 'meta': 657, 'appropriate': 69, 'one': 729, 'detecting': 285, 'capable': 160, 'arriving': 73, 'logical': 618, 'conclusions': 224, 'available': 98, 'thinking': 1077, 'may': 647, 'include': 512, 'mimicking': 661, 'speech': 987, 'expressions': 389, 'emotion': 335, 'inputing': 532, 'differences': 293, 'learnings': 593, 'toward': 1097, 'perimeters': 776, 'often': 722, 'else': 334, 'trees': 1107, 'decision': 264, 'database': 259, 'module': 677, 'sth': 1001, 'imgs': 502, 'voices': 1157, 'piece': 783, 'draw': 318, 'involve': 558, 'directions': 302, 'look': 621, 'analyse': 53, 'omit': 726, 'believes': 121, 'adding': 22, 'compare': 208, 'against': 31, 'extrapolate': 392, 'colors': 197, 'temperatures': 1052, 'weights': 1167, 'etcetera': 363, 'off': 721, 'example': 370, 'playlists': 786, 'spotify': 991, 'youtube': 1208, 'music': 688, 'songs': 976, 'already': 48, 'listened': 612, 'choosing': 179, 'listen': 611, 'show': 946, 'coded': 188, 'substantial': 1014, 'newly': 702, 'introduced': 554, 'detected': 284, 'situation': 956, 'predefined': 802, 'commands': 203, 'tell': 1049, 'wants': 1160, 'doing': 310, 'trial': 1110, 'error': 360, 'info': 522, 'intervention': 552, 'pre': 800, 'technique': 1044, 'observed': 716, 'turned': 1116, 'distributed': 306, 'computing': 221, 'exposing': 386, 'correct': 236, 'incorrect': 515, 'acting': 15, 'prior': 814, 'interacted': 545, 'assumptions': 87, 'generative': 441, 'supported': 1022, 'underlying': 1125, 'framework': 426, 'advanced': 27, 'recommendation': 871, 'complicated': 211, 'mimics': 662, 'thinks': 1078, 'route': 907, 'tries': 1111, 'emulate': 340, 'enough': 353, 'chose': 180, 'previously': 813, 'brain': 139, 'producing': 823, 'solutions': 967, 'mimic': 660, 'best': 124, 'case': 164, 'scenario': 920, 'designed': 279, 'enhance': 351, 'autonomous': 97, 'reinforcing': 881, 'originated': 744, 'non': 705, 'linear': 609, 'updated': 1133, 'complex': 210, 'umbrella': 1123, 'term': 1054, 'subgenres': 1011, 'destination': 282, 'actually': 17, 'create': 241, 'potentially': 796, 'access': 8, 'allowing': 46, 'man': 638, 'builds': 146, 'throughout': 1086, 'pretends': 811, 'brains': 140, 'main': 630, 'ultimate': 1121, 'whatever': 1172, 'true': 1113, 'conscious': 226, 'unobserved': 1129, 'mean': 650, 'phrase': 782, 'good': 453, 'marketing': 643, 'attempts': 92, 'problem': 816, 'modeled': 672, 'after': 30, 'mind': 663, 'exhibit': 377, 'group': 457, 'ask': 79, 'repetitive': 890, 'creative': 245, 'customer': 254, 'currently': 252, 'differently': 296, 'depending': 273, 'who': 1184, 'refers': 877, 'creatively': 246, 'modify': 675, 'including': 514, 'adapted': 19, 'come': 200, 'setting': 939, 'someone': 972, 'older': 725, 'sibling': 947, 'highly': 481, 'virtual': 1155, 'robot': 904, 'handle': 468, 'later': 588, 'terms': 1055, 'interchangeably': 548, 'final': 410, 'solving': 969, 'presented': 810, 'calibrated': 151, 'variabled': 1148, 'structures': 1008, 'progressively': 831, 'refines': 878, 'corrects': 237, 'each': 321, 'subsequent': 1012, 'technological': 1046, 'enabled': 342, 'prompted': 834, 'acted': 14, 'humane': 493, 'characteristic': 174, 'imagine': 501, 'entities': 355, 'backed': 102, 'science': 921, 'went': 1169, 'above': 7, 'beyond': 128, 'objects': 715, 'expand': 380, 'respond': 897, 'explicit': 384, 'instruction': 538, 'several': 940, 'aspirational': 82, 'projects': 832, 'current': 251, 'constitute': 230, 'narrow': 692, 'agi': 36, 'aspiration': 81, 'emulation': 341, 'superintelligence': 1020, 'asi': 78, 'enterprise': 354, 'exceeding': 372, 'however': 489, 'there': 1067, 'does': 308, 'exist': 378, 'consensus': 227, 'precise': 801, 'comparative': 207, 'definitions': 271, 'difficult': 297, 'combined': 199, 'reinforced': 880, 'improved': 507, 'synonymous': 1027, 'many': 642, 'cases': 165, 'differentiate': 295, 'say': 918, 'composition': 213, 'simulate': 953, 'interaction': 546, 'requires': 894, 'level': 599, 'synthetic': 1029, 'reacts': 860, 'grow': 459, 'library': 600, 'behave': 112, 'emotionally': 337, 'programming': 829, 'responses': 899, 'number': 712, 'surpass': 1025, 'adaptive': 20, 'abilities': 3, 'power': 797, 'signify': 950, 'opinion': 735, 'assistant': 85, 'fields': 406, 'deliberately': 272, 'trigger': 1112, 'specific': 985, 'behaviour': 115, 'reactions': 859, 'realm': 865, 'rather': 855, 'probably': 815, 'describe': 276, 'yet': 1203, 'somehow': 971, 'still': 1003, 'possess': 792, 'accord': 9, 'thing': 1074, 'operating': 734, 'instructions': 539, 'attempt': 91, 'occasionally': 718, 'mixed': 668, 'jumbled': 569, 'seen': 924, 'believe': 119, 'foundation': 424, 'upon': 1135, 'built': 147, 'both': 136, 'belong': 122, 'branch': 141, 'automation': 96, 'thoroughly': 1080, 'multiple': 687, 'facets': 394, 'interact': 544, 'back': 101, 'utilized': 1145, 'fulfill': 428, 'person': 777, 'utilizing': 1146, 'educate': 326, 'thus': 1087, 'improving': 509, 'implement': 504, 'update': 1132, 'living': 616, 'organisms': 742, 'animal': 59, 'plants': 784, 'fungi': 432, 'posses': 791, 'machining': 628, 'building': 145, 'humanbeings': 492, 'powers': 798, 'idea': 495, 'judgements': 568, 'literably': 613, 'capacity': 161, 'reasonable': 866, 'correlation': 238, 'deep': 266, 'structure': 1007, 'efficient': 329, 'maybe': 648, 'assist': 84, 'interacts': 547, 'overarching': 756, 'falls': 398, 'give': 446, 'intention': 543, 'generating': 440, 'therefore': 1069, 'product': 824, 'nowadays': 711, 'represent': 893, 'expression': 388, 'classified': 183, 'fed': 401, 'iterations': 564, 'variety': 1149, 'events': 365, 'uses': 1142, 'conduct': 225, 'every': 367, 'continues': 234, 'reality': 863, 'imported': 505, 'raw': 856, 'materials': 645, 'latter': 589, 'rely': 886, 'desirable': 280, 'no': 704, 'relatively': 884, 'high': 479, 'rate': 854, 'communicate': 206, 'store': 1004, 'enormous': 352, 'won': 1192, 'remember': 887, 'pull': 843, 'just': 570, 'going': 451, 'responsive': 900, 'art': 74, 'studying': 1010, 'works': 1196, 'possesses': 793, 'manufactured': 641, 'oversight': 758, 'forms': 422, 'advance': 26, 'version': 1151, 'bigger': 130, 'internet': 551, 'inforamtion': 523, 'did': 291, 'start': 993, 'replicate': 891, 'behaviours': 116, 'sentience': 933, 'performing': 775, 'straightforward': 1005, 'comprises': 214, 'mining': 664, 'replicates': 892, 'concept': 222, 'takes': 1036, 'executes': 375, 'well': 1168, 'executable': 374, 'similarly': 952, 'commercial': 204, 'black': 132, 'box': 138, 'consists': 228, 'appear': 66, 'emotional': 336, 'capabilities': 158, 'dissect': 303, 'aspects': 80, 'biological': 131, 'breaking': 143, 'down': 317, 'components': 212, 'parts': 766, 'recreate': 872, 'artificially': 76, 'computationally': 217, 'don': 314, 'whiskers': 1181, 'kitty': 577, 'cat': 166, 'sounds': 980, 'name': 691, 'cats': 168, 'python': 848, 'long': 620, 'hairs': 467, 'side': 948, 'nose': 707, 'aaron': 2, 'wrote': 1200, 'monitor': 678, 'his': 482, 'pet': 780, 'while': 1180, 'he': 474, 'away': 99, 'vacation': 1147, 'guess': 461, 'related': 883, 'outliers': 751, 'google': 454, 'translate': 1102, 'translucent': 1104, 'sometimes': 974, 'spiky': 988, 'threads': 1083, 'around': 72, 'mouth': 682, 'area': 71, 'little': 614, 'cute': 255, 'face': 393, 'sure': 1023, 'baby': 100, 'sensing': 929, 'environment': 357, 'specifically': 986, 'head': 475, 'body': 134, 'fit': 415, 'opening': 732, 'thick': 1072, 'protrude': 837, 'young': 1205, 'lil': 607, 'feline': 404, 'sensors': 931, 'width': 1186, 'perception': 772, 'device': 289, 'kitties': 576, 'wispy': 1188, 'white': 1183, 'clear': 185, 'dont': 316, 'kitten': 574, 'drinking': 319, 'whiskey': 1182, 'running': 912, 'drunk': 320, 'external': 390, 'sensory': 932, 'organ': 741, 'hair': 466, 'sensitive': 930, 'detection': 286, 'search': 922, 'mmmm': 670, 'sorry': 978, 'diminutive': 300, 'infant': 519, 'part': 764, 'resemble': 895, 'heard': 476, 'today': 1092, 'first': 414, 'protector': 836, 'lines': 610, 'chicks': 177, 'thin': 1073, 'fall': 397, 'symmetrical': 1026, 'left': 596, 'right': 903, 'kittyõs': 578, 'growing': 460, 'near': 695, 'kittens': 575, 'beating': 108, 'eggs': 330, 'feelers': 403, 'spokes': 990, 'spoke': 989, 'attached': 89, 'wheels': 1174, 'limitations': 608, 'strands': 1006, 'guessing': 462, 'early': 322, 'before': 110, 'detect': 283, 'movements': 684, 'spaces': 982, 'navigational': 694, 'assume': 86, 'tools': 1096, 'stear': 999, 'direction': 301, 'cheeks': 176, 'stiff': 1002, 'belonging': 123, 'snout': 963, 'three': 1084, 'either': 331, 'sides': 949, 'measure': 654, 'distance': 304, 'difficulty': 298, 'maintaining': 632, 'balance': 103, 'mustache': 689, 'pertains': 779, 'coding': 189, 'honestly': 486, '_do': 1, 'tree': 1106, 'involves': 560, 'branching': 142, 'apart': 65, 'english': 350, 'although': 50, 'context': 232, 'class': 181, 'obviously': 717, 'dateset': 262, 'vexing': 1153, 'licking': 602, 'protrusions': 838, 'serve': 935, 'too': 1094, 'fluffy': 418, 'lol': 619, 'saw': 917, 'shoulder': 945, 'few': 405, 'minutes': 665, 'ago': 37, 'vs': 1158, 'saying': 919, 'creature': 247, 'filled': 408, 'simultaneously': 954, 'mischief': 666, 'pointy': 789, 'cuddles': 249, 'mammals': 637, 'tip': 1090, 'ears': 323, 'tail': 1034, 'promises': 833, 'never': 700, 'die': 292, 'lick': 601, 'toes': 1093, 'want': 1159, 'japanese': 567, 'cartoon': 163, 'character': 173, 'meow': 656, 'oh': 723, 'thats': 1061, 'adorable': 25, 'lives': 615, 'home': 485, 'house': 487, 'roomate': 905, '__': 0, 'fun': 429, 'domesticated': 313, 'likes': 606, 'pets': 781, 'treats': 1105, 'canõt': 157, 'relate': 882, 'anything': 64, 'otherwise': 746, 'small': 960, 'endearment': 349, 'opposed': 736, 'emotive': 338, 'element': 332, 'involved': 559, 'course': 240, 'domestic': 312, 'referring': 876, 'calling': 154, 'excitement': 373, 'mammal': 636, 'overlord': 757, 'four': 425, 'legged': 597, 'short': 944, 'fur': 433, 'sharp': 942, 'standing': 992, 'rounded': 906, 'gut': 463, 'tells': 1051, 'repeat': 888, 'only': 731, 'clue': 186, 'haha': 465, 'size': 958, 'younger': 1206, 'ages': 33, 'hello': 477, 'girls': 445, 'love': 623, 'years': 1202, 'loving': 625, 'instead': 537, 'express': 387, 'affection': 28, 'towards': 1098, 'shape': 941, 'wears': 1165, 'red': 873, 'bowknot': 137, 'color': 196, 'oxymoron': 760, 'word': 1193, 'informal': 525, 'emphasize': 339, 'kid': 571, 'song': 975, 'imaginary': 500, 'bodegas': 133, 'tv': 1117, 'encompass': 344, 'dog': 309, 'she': 943, 'furry': 434, 'typically': 1119, 'pointed': 787, 'loveable': 624, 'purr': 845, 'colloquial': 195, 'fantastic': 399, 'beyonce': 127, 'animation': 60, 'affectionate': 29, 'endearing': 348, 'add': 21, 'cutesy': 256, 'child': 178, 'personalized': 778, 'generic': 442, 'tend': 1053, 'speak': 983, 'play': 785, 'words': 1194}\n"
     ]
    }
   ],
   "source": [
    "print(len(vectorizer.vocabulary_))\n",
    "print(\"* * * * *\")\n",
    "print(vectorizer.vocabulary_)"
   ]
  },
  {
   "cell_type": "markdown",
   "metadata": {},
   "source": [
    "### <span style=\"color:red\">fit X, L to SVM using gradient descent</span>\n",
    "\n",
    "[gradient descent documentation](http://scikit-learn.org/stable/modules/generated/sklearn.linear_model.SGDClassifier.html)"
   ]
  },
  {
   "cell_type": "code",
   "execution_count": 5,
   "metadata": {},
   "outputs": [
    {
     "data": {
      "text/plain": [
       "SGDClassifier(alpha=0.0001, average=False, class_weight=None,\n",
       "              early_stopping=False, epsilon=0.1, eta0=0.0, fit_intercept=True,\n",
       "              l1_ratio=0.15, learning_rate='optimal', loss='hinge',\n",
       "              max_iter=1000, n_iter_no_change=20, n_jobs=None, penalty='l2',\n",
       "              power_t=0.5, random_state=None, shuffle=True, tol=0.001,\n",
       "              validation_fraction=0.1, verbose=0, warm_start=False)"
      ]
     },
     "execution_count": 5,
     "metadata": {},
     "output_type": "execute_result"
    }
   ],
   "source": [
    "# fit SVM linear classifier\n",
    "from sklearn import linear_model\n",
    "sgd = linear_model.SGDClassifier(n_iter_no_change=20)\n",
    "sgd.fit(X, L)"
   ]
  },
  {
   "cell_type": "code",
   "execution_count": 6,
   "metadata": {},
   "outputs": [
    {
     "data": {
      "text/plain": [
       "29"
      ]
     },
     "execution_count": 6,
     "metadata": {},
     "output_type": "execute_result"
    }
   ],
   "source": [
    "sgd.n_iter_"
   ]
  },
  {
   "cell_type": "markdown",
   "metadata": {},
   "source": [
    "### assess performance"
   ]
  },
  {
   "cell_type": "code",
   "execution_count": 7,
   "metadata": {},
   "outputs": [
    {
     "name": "stdout",
     "output_type": "stream",
     "text": [
      "{'Pos': 103, 'Neg': 210, 'TP': 103, 'TN': 210, 'FP': 0, 'FN': 0, 'Accuracy': 1.0, 'Precision': 1.0, 'Recall': 1.0, 'desc': 'sgd'}\n"
     ]
    }
   ],
   "source": [
    "# look at performance measures\n",
    "import my_measures\n",
    "\n",
    "performance_measures = my_measures.BinaryClassificationPerformance(sgd.predict(X), L, 'sgd')\n",
    "performance_measures.compute_measures()\n",
    "print(performance_measures.performance_measures)"
   ]
  },
  {
   "cell_type": "markdown",
   "metadata": {},
   "source": [
    "![](https://upload.wikimedia.org/wikipedia/commons/thumb/2/26/Precisionrecall.svg/350px-Precisionrecall.svg.png)\n",
    "\n",
    "[source](https://en.wikipedia.org/wiki/Precision_and_recall)"
   ]
  },
  {
   "cell_type": "markdown",
   "metadata": {
    "collapsed": true
   },
   "source": [
    "### test model on unseen definitions"
   ]
  },
  {
   "cell_type": "code",
   "execution_count": 8,
   "metadata": {},
   "outputs": [
    {
     "name": "stdout",
     "output_type": "stream",
     "text": [
      "Machine learning is a field of computer science that gives computers the ability to learn without being explicitly programmed.\n",
      "* * *\n",
      "Machine learning is an application of artificial intelligence (AI) that provides systems the ability to automatically learn and improve from experience without being explicitly programmed. Machine learning focuses on the development of computer programs that can access data and use it learn for themselves.\n",
      "* * *\n",
      "Machine Learning is the science of getting computers to learn and act like humans do, and improve their learning over time in autonomous fashion, by feeding them data and information in the form of observations and real-world interactions.\n",
      "* * *\n"
     ]
    }
   ],
   "source": [
    "# machine learning definitions\n",
    "# Wikipedia, Expert System, Tech Emergence\n",
    "ml_defs = [\"Machine learning is a field of computer science that gives computers the ability to learn without being explicitly programmed.\",\n",
    "          \"Machine learning is an application of artificial intelligence (AI) that provides systems the ability to automatically learn and improve from experience without being explicitly programmed. Machine learning focuses on the development of computer programs that can access data and use it learn for themselves.\",\n",
    "          \"Machine Learning is the science of getting computers to learn and act like humans do, and improve their learning over time in autonomous fashion, by feeding them data and information in the form of observations and real-world interactions.\"]\n",
    "\n",
    "for d in ml_defs:\n",
    "    print(d)\n",
    "    print(\"* * *\")"
   ]
  },
  {
   "cell_type": "code",
   "execution_count": 9,
   "metadata": {},
   "outputs": [
    {
     "name": "stdout",
     "output_type": "stream",
     "text": [
      "Artificial intelligence (AI, also machine intelligence, MI) is intelligence demonstrated by machines, in contrast to the natural intelligence (NI) displayed by humans and other animals.\n",
      "* * *\n",
      "the theory and development of computer systems able to perform tasks that normally require human intelligence, such as visual perception, speech recognition, decision-making, and translation between languages\n",
      "* * *\n"
     ]
    }
   ],
   "source": [
    "# AI definitions\n",
    "# Wikipedia, Oxford dictionary\n",
    "ai_defs = [\"Artificial intelligence (AI, also machine intelligence, MI) is intelligence demonstrated by machines, in contrast to the natural intelligence (NI) displayed by humans and other animals.\",\n",
    "          \"the theory and development of computer systems able to perform tasks that normally require human intelligence, such as visual perception, speech recognition, decision-making, and translation between languages\"]\n",
    "\n",
    "for d in ai_defs:\n",
    "    print(d)\n",
    "    print(\"* * *\")"
   ]
  },
  {
   "cell_type": "code",
   "execution_count": 10,
   "metadata": {},
   "outputs": [
    {
     "name": "stdout",
     "output_type": "stream",
     "text": [
      "A kitten, also known as a kitty or kitty cat, is a juvenile cat.\n",
      "* * *\n",
      "The piano is an acoustic, stringed musical instrument invented in Italy by Bartolomeo Cristofori around the year 1700 in which the strings are struck by hammers.\n",
      "* * *\n",
      "a small gadget or mechanical device, especially one whose name is unknown or unspecified\n",
      "* * *\n"
     ]
    }
   ],
   "source": [
    "# Definitions of unrelated things: kitten, piano, widget\n",
    "other_defs = [\"A kitten, also known as a kitty or kitty cat, is a juvenile cat.\",\n",
    "             \"The piano is an acoustic, stringed musical instrument invented in Italy by Bartolomeo Cristofori around the year 1700 in which the strings are struck by hammers.\",\n",
    "             \"a small gadget or mechanical device, especially one whose name is unknown or unspecified\"]\n",
    "\n",
    "for d in other_defs:\n",
    "    print(d)\n",
    "    print(\"* * *\")"
   ]
  },
  {
   "cell_type": "markdown",
   "metadata": {},
   "source": [
    "### function to transform new definitions to a X vector"
   ]
  },
  {
   "cell_type": "code",
   "execution_count": 11,
   "metadata": {},
   "outputs": [],
   "source": [
    "def get_prediction(definition):\n",
    "    text_x = vectorizer.transform([definition]).toarray()\n",
    "    return(sgd.predict(text_x))"
   ]
  },
  {
   "cell_type": "markdown",
   "metadata": {},
   "source": [
    "### view predicted classifications of new definitions"
   ]
  },
  {
   "cell_type": "code",
   "execution_count": 12,
   "metadata": {},
   "outputs": [
    {
     "name": "stdout",
     "output_type": "stream",
     "text": [
      "Model predictions for 'machine learning' definitions:\n",
      "[False]\n",
      "[ True]\n",
      "[ True]\n",
      "* * *\n",
      "Model predictions for 'AI' definitions:\n",
      "[False]\n",
      "[False]\n",
      "* * *\n",
      "Model predictions for other definitions (kitten, piano, widget):\n",
      "[False]\n",
      "[False]\n",
      "[False]\n"
     ]
    }
   ],
   "source": [
    "print(\"Model predictions for 'machine learning' definitions:\")\n",
    "for mld in ml_defs:\n",
    "    print(get_prediction(mld))\n",
    "    \n",
    "print(\"* * *\")\n",
    "print(\"Model predictions for 'AI' definitions:\")\n",
    "for aid in ai_defs:\n",
    "    print(get_prediction(aid))\n",
    "\n",
    "print(\"* * *\")\n",
    "print(\"Model predictions for other definitions (kitten, piano, widget):\")\n",
    "for otherd in other_defs:\n",
    "    print(get_prediction(otherd))"
   ]
  }
 ],
 "metadata": {
  "kernelspec": {
   "display_name": "Python 3",
   "language": "python",
   "name": "python3"
  },
  "language_info": {
   "codemirror_mode": {
    "name": "ipython",
    "version": 3
   },
   "file_extension": ".py",
   "mimetype": "text/x-python",
   "name": "python",
   "nbconvert_exporter": "python",
   "pygments_lexer": "ipython3",
   "version": "3.7.6"
  }
 },
 "nbformat": 4,
 "nbformat_minor": 1
}
