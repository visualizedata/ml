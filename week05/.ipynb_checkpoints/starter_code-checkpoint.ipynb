{
 "cells": [
  {
   "cell_type": "code",
   "execution_count": 1,
   "metadata": {
    "collapsed": true
   },
   "outputs": [],
   "source": [
    "import numpy as np\n",
    "import pandas as pd\n",
    "import matplotlib.pyplot as plt\n",
    "%matplotlib inline"
   ]
  },
  {
   "cell_type": "code",
   "execution_count": 2,
   "metadata": {
    "collapsed": true
   },
   "outputs": [],
   "source": [
    "np.set_printoptions(linewidth=150)"
   ]
  },
  {
   "cell_type": "code",
   "execution_count": 3,
   "metadata": {
    "collapsed": false
   },
   "outputs": [
    {
     "name": "stdout",
     "output_type": "stream",
     "text": [
      "hungry          bool\n",
      "hoursSince     int64\n",
      "text          object\n",
      "dtype: object\n",
      "  hungry  hoursSince                                               text\n",
      "0   True           5                                      I'm so angry!\n",
      "1  False           1                                      life is great\n",
      "2   True           6                             I feel like angry bird\n",
      "3  False           2                            it's a great day to fly\n",
      "4   True           4                                don't make me angry\n",
      "5  False          42                           this juice fast is great\n",
      "6   True           5                    waiting for food makes me angry\n",
      "7  False           0                               donuts make me happy\n",
      "8  False           2  I really wonder, I say I really wonder why I h...\n",
      "9   True           3              I don't hate if I don't hate this day\n"
     ]
    }
   ],
   "source": [
    "data = pd.read_csv('/Users/aaron/Dropbox/data/texting.csv')\n",
    "print(data.dtypes)\n",
    "print(data.head(10))"
   ]
  },
  {
   "cell_type": "code",
   "execution_count": null,
   "metadata": {
    "collapsed": true
   },
   "outputs": [],
   "source": []
  }
 ],
 "metadata": {
  "anaconda-cloud": {},
  "kernelspec": {
   "display_name": "Python [default]",
   "language": "python",
   "name": "python3"
  },
  "language_info": {
   "codemirror_mode": {
    "name": "ipython",
    "version": 3
   },
   "file_extension": ".py",
   "mimetype": "text/x-python",
   "name": "python",
   "nbconvert_exporter": "python",
   "pygments_lexer": "ipython3",
   "version": "3.5.2"
  }
 },
 "nbformat": 4,
 "nbformat_minor": 0
}
