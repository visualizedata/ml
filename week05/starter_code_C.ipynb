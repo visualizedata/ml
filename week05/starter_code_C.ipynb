{
 "cells": [
  {
   "cell_type": "code",
   "execution_count": 1,
   "metadata": {},
   "outputs": [],
   "source": [
    "import numpy as np\n",
    "import pandas as pd\n",
    "import matplotlib.pyplot as plt\n",
    "%matplotlib inline"
   ]
  },
  {
   "cell_type": "code",
   "execution_count": 2,
   "metadata": {},
   "outputs": [
    {
     "name": "stdout",
     "output_type": "stream",
     "text": [
      "term          object\n",
      "definition    object\n",
      "ml              bool\n",
      "dtype: object\n",
      "               term                                         definition    ml\n",
      "0  machine learning  Automatic or semi-automatic updating of equati...  True\n",
      "1  machine learning  A method to train a machine(any kind) in a hum...  True\n",
      "2  machine learning  Pattern recognition through a set of constantl...  True\n",
      "3  machine learning  Machine learning is a predictive computational...  True\n",
      "4  machine learning  Machine learning is the development of functio...  True\n",
      "5  machine learning  Machine learning is the application of algorit...  True\n",
      "6  machine learning  A process where algorithms, paired with data, ...  True\n",
      "7  machine learning                     Algorithms that can be trained  True\n",
      "8  machine learning  Machine Learning describes algorithms that can...  True\n",
      "9  machine learning              Introducing an algorithm to a machine  True\n"
     ]
    }
   ],
   "source": [
    "data = pd.read_csv('definitions24.csv', encoding='latin1')\n",
    "\n",
    "# create a boolean indicator =True if the definition is of \"machine learning\"\n",
    "data['ml'] = data['term'] == 'machine learning'\n",
    "\n",
    "print(data.dtypes)\n",
    "print(data.head(10))"
   ]
  },
  {
   "cell_type": "code",
   "execution_count": 3,
   "metadata": {},
   "outputs": [
    {
     "name": "stdout",
     "output_type": "stream",
     "text": [
      "(313, 1209)\n"
     ]
    }
   ],
   "source": [
    "from sklearn.feature_extraction.text import CountVectorizer\n",
    "\n",
    "L = data[\"ml\"] # labels\n",
    "corpus = data['definition'] # corpus of reviews in words\n",
    "vectorizer = CountVectorizer(binary=True)\n",
    "X = vectorizer.fit_transform(corpus)\n",
    "print(X.shape)"
   ]
  },
  {
   "cell_type": "markdown",
   "metadata": {},
   "source": [
    "## Extract polynomial features"
   ]
  },
  {
   "cell_type": "code",
   "execution_count": 4,
   "metadata": {},
   "outputs": [
    {
     "data": {
      "text/plain": [
       "(313, 731446)"
      ]
     },
     "execution_count": 4,
     "metadata": {},
     "output_type": "execute_result"
    }
   ],
   "source": [
    "from sklearn.preprocessing import PolynomialFeatures\n",
    "\n",
    "poly = PolynomialFeatures(2, interaction_only=True)\n",
    "Xp = poly.fit_transform(X)\n",
    "Xp.shape"
   ]
  },
  {
   "cell_type": "markdown",
   "metadata": {},
   "source": [
    "## Polynomial features with the kernel trick"
   ]
  },
  {
   "cell_type": "code",
   "execution_count": 5,
   "metadata": {},
   "outputs": [
    {
     "name": "stderr",
     "output_type": "stream",
     "text": [
      "/Users/aaron/opt/anaconda3/lib/python3.7/site-packages/sklearn/linear_model/_stochastic_gradient.py:557: ConvergenceWarning: Maximum number of iteration reached before convergence. Consider increasing max_iter to improve the fit.\n",
      "  ConvergenceWarning)\n"
     ]
    },
    {
     "data": {
      "text/plain": [
       "SGDClassifier(alpha=0.0001, average=False, class_weight=None,\n",
       "              early_stopping=False, epsilon=0.1, eta0=0.0, fit_intercept=True,\n",
       "              l1_ratio=0.15, learning_rate='optimal', loss='hinge', max_iter=5,\n",
       "              n_iter_no_change=5, n_jobs=None, penalty='l2', power_t=0.5,\n",
       "              random_state=None, shuffle=True, tol=0.001,\n",
       "              validation_fraction=0.1, verbose=0, warm_start=False)"
      ]
     },
     "execution_count": 5,
     "metadata": {},
     "output_type": "execute_result"
    }
   ],
   "source": [
    "from sklearn.kernel_approximation import RBFSampler\n",
    "from sklearn.linear_model import SGDClassifier\n",
    "rbf_feature = RBFSampler(gamma=1, random_state=1, n_components=123000)\n",
    "X_features = rbf_feature.fit_transform(X)\n",
    "# fit SGDClassifier\n",
    "clf = SGDClassifier(max_iter=5)\n",
    "clf.fit(X_features, L)   \n"
   ]
  },
  {
   "cell_type": "code",
   "execution_count": 6,
   "metadata": {},
   "outputs": [
    {
     "data": {
      "text/plain": [
       "(313, 123000)"
      ]
     },
     "execution_count": 6,
     "metadata": {},
     "output_type": "execute_result"
    }
   ],
   "source": [
    "X_features.shape"
   ]
  },
  {
   "cell_type": "code",
   "execution_count": 7,
   "metadata": {},
   "outputs": [
    {
     "name": "stdout",
     "output_type": "stream",
     "text": [
      "{'Pos': 103, 'Neg': 210, 'TP': 103, 'TN': 210, 'FP': 0, 'FN': 0, 'Accuracy': 1.0, 'Precision': 1.0, 'Recall': 1.0, 'desc': 'clf'}\n"
     ]
    }
   ],
   "source": [
    "import my_measures\n",
    "\n",
    "performance_measures = my_measures.BinaryClassificationPerformance(clf.predict(X_features), L, 'clf')\n",
    "performance_measures.compute_measures()\n",
    "print(performance_measures.performance_measures)"
   ]
  },
  {
   "cell_type": "code",
   "execution_count": 8,
   "metadata": {},
   "outputs": [
    {
     "name": "stdout",
     "output_type": "stream",
     "text": [
      "Model predictions for 'machine learning' definitions:\n",
      "[False]\n",
      "[False]\n",
      "[False]\n",
      "* * *\n",
      "Model predictions for 'AI' definitions:\n",
      "[False]\n",
      "[False]\n",
      "* * *\n",
      "Model predictions for other definitions (kitten, piano, widget):\n",
      "[False]\n",
      "[False]\n",
      "[False]\n"
     ]
    }
   ],
   "source": [
    "# machine learning definitions\n",
    "# Wikipedia, Expert System, Tech Emergence\n",
    "ml_defs = [\"Machine learning is a field of computer science that gives computers the ability to learn without being explicitly programmed.\",\n",
    "          \"Machine learning is an application of artificial intelligence (AI) that provides systems the ability to automatically learn and improve from experience without being explicitly programmed. Machine learning focuses on the development of computer programs that can access data and use it learn for themselves.\",\n",
    "          \"Machine Learning is the science of getting computers to learn and act like humans do, and improve their learning over time in autonomous fashion, by feeding them data and information in the form of observations and real-world interactions.\"]\n",
    "    \n",
    "# AI definitions\n",
    "# Wikipedia, Oxford dictionary\n",
    "ai_defs = [\"Artificial intelligence (AI, also machine intelligence, MI) is intelligence demonstrated by machines, in contrast to the natural intelligence (NI) displayed by humans and other animals.\",\n",
    "          \"the theory and development of computer systems able to perform tasks that normally require human intelligence, such as visual perception, speech recognition, decision-making, and translation between languages\"]\n",
    "\n",
    "# Definitions of unrelated things: kitten, piano, widget\n",
    "other_defs = [\"A kitten, also known as a kitty or kitty cat, is a juvenile cat.\",\n",
    "             \"The piano is an acoustic, stringed musical instrument invented in Italy by Bartolomeo Cristofori around the year 1700 in which the strings are struck by hammers.\",\n",
    "             \"a small gadget or mechanical device, especially one whose name is unknown or unspecified\"]\n",
    "    \n",
    "def get_prediction(definition):\n",
    "    text_x = vectorizer.transform([definition]).toarray()\n",
    "    rbf_feature = RBFSampler(gamma=1, random_state=1, n_components=123000)\n",
    "    X_features = rbf_feature.fit_transform(text_x)\n",
    "    return(clf.predict(X_features))\n",
    "\n",
    "print(\"Model predictions for 'machine learning' definitions:\")\n",
    "for mld in ml_defs:\n",
    "    print(get_prediction(mld))\n",
    "    \n",
    "print(\"* * *\")\n",
    "print(\"Model predictions for 'AI' definitions:\")\n",
    "for aid in ai_defs:\n",
    "    print(get_prediction(aid))\n",
    "\n",
    "print(\"* * *\")\n",
    "print(\"Model predictions for other definitions (kitten, piano, widget):\")\n",
    "for otherd in other_defs:\n",
    "    print(get_prediction(otherd))"
   ]
  },
  {
   "cell_type": "code",
   "execution_count": null,
   "metadata": {},
   "outputs": [],
   "source": []
  }
 ],
 "metadata": {
  "kernelspec": {
   "display_name": "Python 3",
   "language": "python",
   "name": "python3"
  },
  "language_info": {
   "codemirror_mode": {
    "name": "ipython",
    "version": 3
   },
   "file_extension": ".py",
   "mimetype": "text/x-python",
   "name": "python",
   "nbconvert_exporter": "python",
   "pygments_lexer": "ipython3",
   "version": "3.7.6"
  }
 },
 "nbformat": 4,
 "nbformat_minor": 2
}
