{
 "cells": [
  {
   "cell_type": "code",
   "execution_count": 1,
   "metadata": {
    "collapsed": true
   },
   "outputs": [],
   "source": [
    "import numpy as np\n",
    "import pandas as pd\n",
    "import matplotlib.pyplot as plt\n",
    "import pickle\n",
    "from skimage import io, color, img_as_bool, exposure, transform, feature\n",
    "%matplotlib inline"
   ]
  },
  {
   "cell_type": "code",
   "execution_count": 2,
   "metadata": {
    "collapsed": true
   },
   "outputs": [],
   "source": [
    "# file paths\n",
    "ci_path = '/Volumes/Samsung_T3/machinelearning/data/plane_data/cropped_images_18/'\n",
    "l_file = '/Volumes/Samsung_T3/machinelearning/data/plane_data/plane_labels_2018.csv'\n",
    "sandbox = '/Volumes/Samsung_T3/machinelearning/ml/week08/sandbox/'"
   ]
  },
  {
   "cell_type": "code",
   "execution_count": 3,
   "metadata": {},
   "outputs": [
    {
     "name": "stdout",
     "output_type": "stream",
     "text": [
      "                   img_name  plane\n",
      "0  2016-08-02T13+50+24_430Z  False\n",
      "1  2016-08-02T14+12+37_390Z  False\n",
      "2  2016-08-02T22+20+26_600Z  False\n",
      "3  2016-08-03T12+04+30_670Z  False\n",
      "4  2016-08-03T12+32+21_790Z  False\n",
      "(6758, 2)\n"
     ]
    }
   ],
   "source": [
    "# all labels\n",
    "plane_data = pd.read_csv(l_file)\n",
    "print(plane_data.head())\n",
    "print(plane_data.shape)"
   ]
  },
  {
   "cell_type": "code",
   "execution_count": 4,
   "metadata": {},
   "outputs": [
    {
     "name": "stdout",
     "output_type": "stream",
     "text": [
      "101\n",
      "(101, 2)\n"
     ]
    }
   ],
   "source": [
    "# filter to include only the airplane images\n",
    "print(plane_data['plane'].sum())\n",
    "aircraft = plane_data[plane_data['plane']==True]\n",
    "print(aircraft.shape)"
   ]
  },
  {
   "cell_type": "code",
   "execution_count": 5,
   "metadata": {},
   "outputs": [
    {
     "name": "stdout",
     "output_type": "stream",
     "text": [
      "(20, 2)\n"
     ]
    }
   ],
   "source": [
    "# take a random subset of 20 of the airplane images\n",
    "aircraft_subset = aircraft.sample(20)\n",
    "print(aircraft_subset.shape)"
   ]
  },
  {
   "cell_type": "code",
   "execution_count": 7,
   "metadata": {},
   "outputs": [
    {
     "name": "stdout",
     "output_type": "stream",
     "text": [
      "(60, 140)\n",
      "[[ 0.18767765  0.26610902  0.34846196 ...,  0.14920588  0.09822549\n",
      "   0.09629804]\n",
      " [ 0.18767765  0.18767765  0.23473647 ...,  0.2590098   0.16881373\n",
      "   0.15512157]\n",
      " [ 0.18178392  0.12885412  0.13669725 ...,  0.33298392  0.18004275\n",
      "   0.14924275]\n",
      " ..., \n",
      " [ 0.28344706  0.26383922  0.24423137 ...,  0.50893373  0.50893373\n",
      "   0.50893373]\n",
      " [ 0.48736863  0.47952549  0.47168235 ...,  0.51033255  0.51033255\n",
      "   0.51033255]\n",
      " [ 0.51874118  0.55011373  0.57364314 ...,  0.51425412  0.51425412\n",
      "   0.51817569]]\n"
     ]
    }
   ],
   "source": [
    "# for each of the subset images, alter them and view the alterations\n",
    "f = open(sandbox + \"view_images.html\",\"w\") \n",
    "first_image = False\n",
    "\n",
    "for index, row in aircraft_subset.iterrows():\n",
    "    imname = ci_path + row['img_name'] + '.png'\n",
    "    img_raw = io.imread(imname)\n",
    "#     final_image = img_as_bool(img_raw) \n",
    "    final_image = color.rgb2gray(img_raw)\n",
    "    im = sandbox + row['img_name'] + '.png'\n",
    "    plt.imsave(im, final_image)\n",
    "    if first_image==False:\n",
    "        print(final_image.shape)\n",
    "        print(final_image)\n",
    "        first_image = True\n",
    "    f.write(\"<img src='\" + row['img_name'] + \".png' width='320'>\\n\")\n",
    "\n",
    "f.close() \n"
   ]
  },
  {
   "cell_type": "code",
   "execution_count": null,
   "metadata": {
    "collapsed": true
   },
   "outputs": [],
   "source": []
  }
 ],
 "metadata": {
  "kernelspec": {
   "display_name": "Python 3",
   "language": "python",
   "name": "python3"
  },
  "language_info": {
   "codemirror_mode": {
    "name": "ipython",
    "version": 3
   },
   "file_extension": ".py",
   "mimetype": "text/x-python",
   "name": "python",
   "nbconvert_exporter": "python",
   "pygments_lexer": "ipython3",
   "version": "3.6.3"
  }
 },
 "nbformat": 4,
 "nbformat_minor": 2
}
